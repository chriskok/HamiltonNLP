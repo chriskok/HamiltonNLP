{
 "cells": [
  {
   "cell_type": "code",
   "execution_count": 2,
   "metadata": {},
   "outputs": [],
   "source": [
    "import os\n",
    "import numpy as np\n",
    "import pandas as pd\n",
    "\n",
    "import matplotlib.pyplot as plt\n",
    "import seaborn as sns\n",
    "\n",
    "sns.set\n",
    "%matplotlib inline"
   ]
  },
  {
   "cell_type": "code",
   "execution_count": 5,
   "metadata": {},
   "outputs": [],
   "source": [
    "df = pd.read_csv('ham_lyrics.csv', engine='python')"
   ]
  },
  {
   "cell_type": "code",
   "execution_count": 6,
   "metadata": {},
   "outputs": [
    {
     "data": {
      "text/html": [
       "<div>\n",
       "<style scoped>\n",
       "    .dataframe tbody tr th:only-of-type {\n",
       "        vertical-align: middle;\n",
       "    }\n",
       "\n",
       "    .dataframe tbody tr th {\n",
       "        vertical-align: top;\n",
       "    }\n",
       "\n",
       "    .dataframe thead th {\n",
       "        text-align: right;\n",
       "    }\n",
       "</style>\n",
       "<table border=\"1\" class=\"dataframe\">\n",
       "  <thead>\n",
       "    <tr style=\"text-align: right;\">\n",
       "      <th></th>\n",
       "      <th>title</th>\n",
       "      <th>speaker</th>\n",
       "      <th>lines</th>\n",
       "    </tr>\n",
       "  </thead>\n",
       "  <tbody>\n",
       "    <tr>\n",
       "      <th>0</th>\n",
       "      <td>Alexander Hamilton</td>\n",
       "      <td>BURR</td>\n",
       "      <td>How does a bastard, orphan, son of a whore and a</td>\n",
       "    </tr>\n",
       "    <tr>\n",
       "      <th>1</th>\n",
       "      <td>Alexander Hamilton</td>\n",
       "      <td>BURR</td>\n",
       "      <td>Scotsman, dropped in the middle of a forgotten</td>\n",
       "    </tr>\n",
       "    <tr>\n",
       "      <th>2</th>\n",
       "      <td>Alexander Hamilton</td>\n",
       "      <td>BURR</td>\n",
       "      <td>Spot in the Caribbean by providence, impoveris...</td>\n",
       "    </tr>\n",
       "    <tr>\n",
       "      <th>3</th>\n",
       "      <td>Alexander Hamilton</td>\n",
       "      <td>BURR</td>\n",
       "      <td>Grow up to be a hero and a scholar?</td>\n",
       "    </tr>\n",
       "    <tr>\n",
       "      <th>4</th>\n",
       "      <td>Alexander Hamilton</td>\n",
       "      <td>LAURENS</td>\n",
       "      <td>The ten-dollar Founding Father without a father</td>\n",
       "    </tr>\n",
       "  </tbody>\n",
       "</table>\n",
       "</div>"
      ],
      "text/plain": [
       "                title  speaker  \\\n",
       "0  Alexander Hamilton     BURR   \n",
       "1  Alexander Hamilton     BURR   \n",
       "2  Alexander Hamilton     BURR   \n",
       "3  Alexander Hamilton     BURR   \n",
       "4  Alexander Hamilton  LAURENS   \n",
       "\n",
       "                                               lines  \n",
       "0   How does a bastard, orphan, son of a whore and a  \n",
       "1     Scotsman, dropped in the middle of a forgotten  \n",
       "2  Spot in the Caribbean by providence, impoveris...  \n",
       "3                Grow up to be a hero and a scholar?  \n",
       "4    The ten-dollar Founding Father without a father  "
      ]
     },
     "execution_count": 6,
     "metadata": {},
     "output_type": "execute_result"
    }
   ],
   "source": [
    "df.head()"
   ]
  },
  {
   "cell_type": "code",
   "execution_count": 7,
   "metadata": {
    "scrolled": false
   },
   "outputs": [
    {
     "data": {
      "text/html": [
       "<div>\n",
       "<style scoped>\n",
       "    .dataframe tbody tr th:only-of-type {\n",
       "        vertical-align: middle;\n",
       "    }\n",
       "\n",
       "    .dataframe tbody tr th {\n",
       "        vertical-align: top;\n",
       "    }\n",
       "\n",
       "    .dataframe thead th {\n",
       "        text-align: right;\n",
       "    }\n",
       "</style>\n",
       "<table border=\"1\" class=\"dataframe\">\n",
       "  <thead>\n",
       "    <tr style=\"text-align: right;\">\n",
       "      <th></th>\n",
       "      <th>title</th>\n",
       "      <th>lines</th>\n",
       "    </tr>\n",
       "  </thead>\n",
       "  <tbody>\n",
       "    <tr>\n",
       "      <th>0</th>\n",
       "      <td>A Winter's Ball</td>\n",
       "      <td>How does the bastard, orphan, son of a whore,G...</td>\n",
       "    </tr>\n",
       "    <tr>\n",
       "      <th>1</th>\n",
       "      <td>Aaron Burr, Sir</td>\n",
       "      <td>1776. New York City,Pardon me. Are you Aaron B...</td>\n",
       "    </tr>\n",
       "    <tr>\n",
       "      <th>2</th>\n",
       "      <td>Alexander Hamilton</td>\n",
       "      <td>How does a bastard, orphan, son of a whore and...</td>\n",
       "    </tr>\n",
       "    <tr>\n",
       "      <th>3</th>\n",
       "      <td>Best of Wives and Best of Women</td>\n",
       "      <td>Alexander, come back to sleep,I have an early ...</td>\n",
       "    </tr>\n",
       "    <tr>\n",
       "      <th>4</th>\n",
       "      <td>Blow Us All Away</td>\n",
       "      <td>Meet the latest graduate of King's College!,I ...</td>\n",
       "    </tr>\n",
       "  </tbody>\n",
       "</table>\n",
       "</div>"
      ],
      "text/plain": [
       "                             title  \\\n",
       "0                  A Winter's Ball   \n",
       "1                  Aaron Burr, Sir   \n",
       "2               Alexander Hamilton   \n",
       "3  Best of Wives and Best of Women   \n",
       "4                 Blow Us All Away   \n",
       "\n",
       "                                               lines  \n",
       "0  How does the bastard, orphan, son of a whore,G...  \n",
       "1  1776. New York City,Pardon me. Are you Aaron B...  \n",
       "2  How does a bastard, orphan, son of a whore and...  \n",
       "3  Alexander, come back to sleep,I have an early ...  \n",
       "4  Meet the latest graduate of King's College!,I ...  "
      ]
     },
     "execution_count": 7,
     "metadata": {},
     "output_type": "execute_result"
    }
   ],
   "source": [
    "grouped_df = df.groupby('title')['lines'].apply(lambda x: ','.join(x)).reset_index()\n",
    "grouped_df.head()"
   ]
  },
  {
   "cell_type": "code",
   "execution_count": 10,
   "metadata": {},
   "outputs": [
    {
     "data": {
      "text/plain": [
       "\"How does the bastard, orphan, son of a whore,Go on and on,Grow into more of a phenomenon?,Watch this obnoxious, arrogant, loudmouth bother,Be seated at the right hand of the father,Washington hires Hamilton right on sight,But Hamilton still wants to fight, not write,Now Hamilton's skill with a quill is undeniable,But what do we have in common? We're,Reliable with the,Ladies!,There are so many to deflower!,Ladies!,Looks! Proximity to power,Ladies!,They delighted and distracted him,Martha Washington named her feral tomcat after him!,That's true!,1780,A winter's ball,And the Schuyler sisters are the envy of all,Yo, if you can marry a sister, you're rich, son,Is it a question of if, Burr, or which one?,Hey,Hey,Hey hey\""
      ]
     },
     "execution_count": 10,
     "metadata": {},
     "output_type": "execute_result"
    }
   ],
   "source": [
    "grouped_df['lines'][0]"
   ]
  }
 ],
 "metadata": {
  "kernelspec": {
   "display_name": "Python 3",
   "language": "python",
   "name": "python3"
  },
  "language_info": {
   "codemirror_mode": {
    "name": "ipython",
    "version": 3
   },
   "file_extension": ".py",
   "mimetype": "text/x-python",
   "name": "python",
   "nbconvert_exporter": "python",
   "pygments_lexer": "ipython3",
   "version": "3.7.6"
  }
 },
 "nbformat": 4,
 "nbformat_minor": 4
}
